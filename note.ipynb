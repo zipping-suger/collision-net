{
 "cells": [
  {
   "cell_type": "code",
   "execution_count": 26,
   "metadata": {},
   "outputs": [],
   "source": [
    "from data_pipeline.environments.cubby_environment import CubbyEnvironment \n",
    "from robofin.collision import FrankaSelfCollisionChecker\n",
    "\n",
    "env = CubbyEnvironment()\n",
    "selfcc = FrankaSelfCollisionChecker()"
   ]
  },
  {
   "cell_type": "code",
   "execution_count": 27,
   "metadata": {},
   "outputs": [
    {
     "name": "stdout",
     "output_type": "stream",
     "text": [
      "len(qs_free): 50\n",
      "len(qs_collision): 639\n"
     ]
    }
   ],
   "source": [
    "obstacles, qs_free, poses_free, qs_collision, poses_collision = env.sample_q_pose(selfcc=selfcc, how_many=50, margin=0)\n",
    "print(\"len(qs_free):\", len(qs_free))\n",
    "print(\"len(qs_collision):\", len(qs_collision))"
   ]
  },
  {
   "cell_type": "code",
   "execution_count": null,
   "metadata": {},
   "outputs": [],
   "source": []
  },
  {
   "cell_type": "code",
   "execution_count": 28,
   "metadata": {},
   "outputs": [
    {
     "name": "stdout",
     "output_type": "stream",
     "text": [
      "robot_points: torch.Size([1, 2048, 3])\n"
     ]
    }
   ],
   "source": [
    "import torch\n",
    "from robofin.pointcloud.torch import FrankaSampler\n",
    "fk_sampler = FrankaSampler(\"cpu\", use_cache=True)\n",
    "\n",
    "qs = qs_collision\n",
    "q = torch.tensor(qs[5], dtype=torch.float32, requires_grad=False)\n",
    "robot_points = fk_sampler.sample(q, 2048)\n",
    "print(\"robot_points:\", robot_points.shape)"
   ]
  },
  {
   "cell_type": "code",
   "execution_count": 29,
   "metadata": {},
   "outputs": [],
   "source": [
    "from data_pipeline.geometry import construct_mixed_point_cloud\n",
    "obstacle_points = construct_mixed_point_cloud(obstacles, num_points=4096)"
   ]
  },
  {
   "cell_type": "code",
   "execution_count": 30,
   "metadata": {},
   "outputs": [],
   "source": [
    "import open3d as o3d\n",
    "\n",
    "# Create an Open3D PointCloud object for the robot points\n",
    "robot_pcd = o3d.geometry.PointCloud()\n",
    "robot_points = robot_points.squeeze().cpu().numpy()  # Convert to numpy array\n",
    "robot_points = robot_points.reshape(-1, 3)  # Ensure correct shape\n",
    "robot_pcd.points = o3d.utility.Vector3dVector(robot_points)  # Use precomputed robot_points\n",
    "robot_pcd.paint_uniform_color([1, 0, 0])  # Red for robot points\n",
    "\n",
    "# Create an Open3D PointCloud object for the obstacle points\n",
    "obstacle_pcd = o3d.geometry.PointCloud()\n",
    "obstacle_pcd.points = o3d.utility.Vector3dVector(obstacle_points[:, :3])  # Use precomputed obstacle_points\n",
    "obstacle_pcd.paint_uniform_color([0, 1, 0])  # Green for obstacle points\n",
    "\n",
    "# Combine the two point clouds into a single list\n",
    "pcd = [robot_pcd, obstacle_pcd]\n",
    "\n",
    "# Visualize both point clouds together\n",
    "o3d.visualization.draw_geometries(pcd)\n"
   ]
  }
 ],
 "metadata": {
  "kernelspec": {
   "display_name": "lor",
   "language": "python",
   "name": "python3"
  },
  "language_info": {
   "codemirror_mode": {
    "name": "ipython",
    "version": 3
   },
   "file_extension": ".py",
   "mimetype": "text/x-python",
   "name": "python",
   "nbconvert_exporter": "python",
   "pygments_lexer": "ipython3",
   "version": "3.8.20"
  }
 },
 "nbformat": 4,
 "nbformat_minor": 2
}
